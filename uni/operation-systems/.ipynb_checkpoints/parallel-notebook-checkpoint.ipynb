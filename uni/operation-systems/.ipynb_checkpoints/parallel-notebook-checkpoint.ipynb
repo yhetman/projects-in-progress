{
 "cells": [
  {
   "cell_type": "code",
   "execution_count": 1,
   "metadata": {},
   "outputs": [],
   "source": [
    "from concurrent.futures import ThreadPoolExecutor, ProcessPoolExecutor\n",
    "import multiprocessing as mp\n",
    "from multiprocessing import Pool, Value, Array, Process, current_process\n",
    "import time\n",
    "import os\n",
    "import numpy as np\n",
    "import random"
   ]
  },
  {
   "cell_type": "code",
   "execution_count": 8,
   "metadata": {},
   "outputs": [],
   "source": [
    "\n",
    "# @hidden_cell\n",
    "# The following code contains the credentials for a file in your IBM Cloud Object Storage.\n",
    "# You might want to remove those credentials before you share your notebook.\n",
    "credentials_1 = {\n",
    "    'IAM_SERVICE_ID': 'iam-ServiceId-95e25e89-b946-431b-85c3-f130cbe764de',\n",
    "    'IBM_API_KEY_ID': '99XIHmh6dAt_W7IIeIJkvKSUgtw_uQ9sDws3lJIBYZjn',\n",
    "    'ENDPOINT': 'https://s3-api.us-geo.objectstorage.service.networklayer.com',\n",
    "    'IBM_AUTH_ENDPOINT': 'https://iam.cloud.ibm.com/oidc/token',\n",
    "    'BUCKET': 'multiparallel-donotdelete-pr-gugu2f90jbu2a4',\n",
    "    'FILE': 'example'\n",
    "}\n"
   ]
  },
  {
   "cell_type": "code",
   "execution_count": 12,
   "metadata": {},
   "outputs": [],
   "source": [
    "from ibm_botocore.client import Config\n",
    "import ibm_boto3\n",
    "\n",
    "\n",
    "cos = ibm_boto3.client(service_name='s3',\n",
    "    ibm_api_key_id=credentials_1['IBM_API_KEY_ID'],\n",
    "    ibm_service_instance_id=credentials_1['IAM_SERVICE_ID'],\n",
    "    ibm_auth_endpoint=credentials_1['IBM_AUTH_ENDPOINT'],\n",
    "    config=Config(signature_version='oauth'),\n",
    "    endpoint_url=credentials_1['ENDPOINT'])\n",
    "\n",
    "cos.download_file(Bucket=credentials_1['BUCKET'],Key='example',Filename='example')"
   ]
  },
  {
   "cell_type": "code",
   "execution_count": 13,
   "metadata": {},
   "outputs": [],
   "source": [
    "def read_4bytes():\n",
    "    numbers = []\n",
    "    with open('example', 'br') as f:\n",
    "        data = f.read(4)\n",
    "        while data:\n",
    "            number = int.from_bytes(data, \"big\", signed=True)\n",
    "            numbers.append(number)\n",
    "            data = f.read(4)\n",
    "    return numbers\n"
   ]
  },
  {
   "cell_type": "code",
   "execution_count": 16,
   "metadata": {},
   "outputs": [],
   "source": [
    "def count_frequency(x): \n",
    "    freq = {} \n",
    "    for item in x: \n",
    "        if (item in freq): \n",
    "            freq[item] += 1\n",
    "        else: \n",
    "            freq[item] = 1\n",
    "    return freq"
   ]
  },
  {
   "cell_type": "code",
   "execution_count": 17,
   "metadata": {},
   "outputs": [],
   "source": [
    "def random_choices(x, tries):\n",
    "    sequence = []\n",
    "    while len(sequence) < tries:\n",
    "        sequence.append(random.choice(x))\n",
    "    return sequence"
   ]
  },
  {
   "cell_type": "code",
   "execution_count": 18,
   "metadata": {},
   "outputs": [],
   "source": [
    "def make_subsample(num_items, x):\n",
    "    resulting_sequence = []\n",
    "    weights = []\n",
    "    while num_items:\n",
    "        number_of_tries = 1000000\n",
    "        sequence = random_choices(x, number_of_tries)\n",
    "        freq = count_frequency(sequence)\n",
    "        highest = max(freq.values())\n",
    "        for key, value in freq.items():\n",
    "            if value == highest:\n",
    "                resulting_sequence.append(key)\n",
    "                weights.append(value / number_of_tries)\n",
    "                x.remove(key)\n",
    "                break ;\n",
    "        random.shuffle(x)\n",
    "        num_items -= 1\n",
    "    return resulting_sequence"
   ]
  },
  {
   "cell_type": "code",
   "execution_count": 58,
   "metadata": {},
   "outputs": [],
   "source": [
    "def check_the_pid(p):\n",
    "    print(p)\n",
    "    N = 100\n",
    "    x  = read_4bytes()\n",
    "    subsample = make_subsample(N, x)\n",
    "    proc_file = str(current_process().name) + \".txt\"\n",
    "    pid = os.getpid()\n",
    "    f = open(proc_file, \"a+\")\n",
    "    res = []\n",
    "    for i in subsample:\n",
    "        if i % (3 * pid) == 0:\n",
    "            res.append(i)\n",
    "            f.write(\"%d\\r\\n\" % (i))\n",
    "    f.close()\n",
    "    return res"
   ]
  },
  {
   "cell_type": "code",
   "execution_count": 27,
   "metadata": {},
   "outputs": [],
   "source": [
    "def check_the_pid_(args):\n",
    "    return check_the_pid(*args)"
   ]
  },
  {
   "cell_type": "code",
   "execution_count": 21,
   "metadata": {},
   "outputs": [
    {
     "name": "stdout",
     "output_type": "stream",
     "text": [
      "CPU times: user 2min 3s, sys: 13.2 ms, total: 2min 3s\n",
      "Wall time: 2min 3s\n"
     ]
    },
    {
     "data": {
      "text/plain": [
       "[-923296713,\n",
       " -70382981,\n",
       " 2074657770,\n",
       " -1623437481,\n",
       " -2081533921,\n",
       " 574379484,\n",
       " -1914561711,\n",
       " -594910774,\n",
       " -480087251,\n",
       " 1788422503,\n",
       " -89667748,\n",
       " 962035881,\n",
       " -1140020256,\n",
       " -1959310540,\n",
       " -1964011416,\n",
       " 1746972274,\n",
       " -1664064659,\n",
       " -1494956989,\n",
       " 830859829,\n",
       " -209603229,\n",
       " 557160005,\n",
       " 688622902,\n",
       " 114845948,\n",
       " -1661428362,\n",
       " 589342328,\n",
       " 171063601,\n",
       " 1057410956,\n",
       " -199473395,\n",
       " 566760439,\n",
       " 1740646658,\n",
       " 1251933349,\n",
       " -1266196223,\n",
       " -1172338137,\n",
       " -1524570619,\n",
       " 1443799790,\n",
       " 741252768,\n",
       " -1849514664,\n",
       " -1498994852,\n",
       " 1133837059,\n",
       " 1084047573,\n",
       " -1503601558,\n",
       " -1794995679,\n",
       " 991119109,\n",
       " -1958390819,\n",
       " 451765942,\n",
       " -139065503,\n",
       " -654181973,\n",
       " -100380141,\n",
       " -758524894,\n",
       " 1025844924,\n",
       " -1915040914,\n",
       " -549811829,\n",
       " 1032095028,\n",
       " -605262212,\n",
       " 2026982012,\n",
       " -29312832,\n",
       " 126074355,\n",
       " 419643993,\n",
       " 11302008,\n",
       " -1750648347,\n",
       " -1104419033,\n",
       " 527113196,\n",
       " -879329381,\n",
       " 853199228,\n",
       " 209210813,\n",
       " -706942003,\n",
       " -1745766185,\n",
       " 377486588,\n",
       " -1672873400,\n",
       " -1220056441,\n",
       " 22757709,\n",
       " -737346018,\n",
       " -61812823,\n",
       " -129394471,\n",
       " -1387099251,\n",
       " 1795027880,\n",
       " 2006847766,\n",
       " 2130456082,\n",
       " 1822442219,\n",
       " 798453766,\n",
       " -1730865034,\n",
       " -314553101,\n",
       " 1535475459,\n",
       " 23564161,\n",
       " 1156971241,\n",
       " -140619075,\n",
       " -1347937917,\n",
       " -572635063,\n",
       " -1768350398,\n",
       " -1017066297,\n",
       " 858402366,\n",
       " -183583917,\n",
       " 261547126,\n",
       " 177845221,\n",
       " -1779290430,\n",
       " -1731802526,\n",
       " -231264013,\n",
       " -1571337193,\n",
       " 2108904741,\n",
       " -1379272177]"
      ]
     },
     "execution_count": 21,
     "metadata": {},
     "output_type": "execute_result"
    }
   ],
   "source": [
    "%%time\n",
    "PROCESSES = 4\n",
    "N = 100\n",
    "x  = read_4bytes()\n",
    "make_subsample(N, x)"
   ]
  },
  {
   "cell_type": "code",
   "execution_count": 47,
   "metadata": {},
   "outputs": [],
   "source": [
    "def multiprocessing_pool():\n",
    "    PROCESSES = 4\n",
    "    results = []\n",
    "    with ProcessPoolExecutor(max_workers = PROCESSES) as pool:\n",
    "        #params = read_and_get()\n",
    "        results = pool.map(check_the_pid, [i for i in range(PROCESSES)], chunksize=100)\n",
    "        print(list(results))\n",
    "    return results"
   ]
  },
  {
   "cell_type": "code",
   "execution_count": 48,
   "metadata": {},
   "outputs": [
    {
     "name": "stdout",
     "output_type": "stream",
     "text": [
      "0\n",
      "1\n",
      "2\n",
      "3\n",
      "[[], [], [], []]\n",
      "CPU times: user 53.1 ms, sys: 44 ms, total: 97.1 ms\n",
      "Wall time: 8min 20s\n"
     ]
    },
    {
     "data": {
      "text/plain": [
       "<generator object _chain_from_iterable_of_lists at 0x7ff3d81ef7d0>"
      ]
     },
     "execution_count": 48,
     "metadata": {},
     "output_type": "execute_result"
    }
   ],
   "source": [
    "%%time\n",
    "\n",
    "multiprocessing_pool()"
   ]
  },
  {
   "cell_type": "code",
   "execution_count": 60,
   "metadata": {},
   "outputs": [
    {
     "name": "stdout",
     "output_type": "stream",
     "text": [
      "2\n",
      "1\n"
     ]
    }
   ],
   "source": [
    "import _thread\n",
    "\n",
    "try:\n",
    "    _thread.start_new_thread( check_the_pid, (1, ) )\n",
    "    _thread.start_new_thread( check_the_pid, (2, ) )\n",
    "except:\n",
    "    print(\"Error: unable to start thread\")"
   ]
  },
  {
   "cell_type": "code",
   "execution_count": 62,
   "metadata": {},
   "outputs": [],
   "source": [
    "!cat ForkProcess-29.txt"
   ]
  },
  {
   "cell_type": "code",
   "execution_count": null,
   "metadata": {},
   "outputs": [],
   "source": []
  },
  {
   "cell_type": "code",
   "execution_count": null,
   "metadata": {},
   "outputs": [],
   "source": []
  },
  {
   "cell_type": "code",
   "execution_count": null,
   "metadata": {},
   "outputs": [],
   "source": []
  },
  {
   "cell_type": "code",
   "execution_count": null,
   "metadata": {},
   "outputs": [],
   "source": []
  }
 ],
 "metadata": {
  "kernelspec": {
   "display_name": "Python 3",
   "language": "python",
   "name": "python3"
  },
  "language_info": {
   "codemirror_mode": {
    "name": "ipython",
    "version": 3
   },
   "file_extension": ".py",
   "mimetype": "text/x-python",
   "name": "python",
   "nbconvert_exporter": "python",
   "pygments_lexer": "ipython3",
   "version": "3.7.6"
  }
 },
 "nbformat": 4,
 "nbformat_minor": 1
}
