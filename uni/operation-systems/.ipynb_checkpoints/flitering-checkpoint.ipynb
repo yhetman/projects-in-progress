{
 "cells": [
  {
   "cell_type": "code",
   "execution_count": 14,
   "metadata": {},
   "outputs": [],
   "source": [
    "import numpy as np\n",
    "import random"
   ]
  },
  {
   "cell_type": "code",
   "execution_count": 15,
   "metadata": {},
   "outputs": [],
   "source": [
    "\n",
    "def read_4bytes():\n",
    "    numbers = []\n",
    "    with open('example', 'br') as f:\n",
    "        data = f.read(4)\n",
    "        while data:\n",
    "            number = int.from_bytes(data, \"big\", signed=True)\n",
    "            numbers.append(number)\n",
    "            data = f.read(4)\n",
    "    return numbers\n"
   ]
  },
  {
   "cell_type": "code",
   "execution_count": 16,
   "metadata": {},
   "outputs": [],
   "source": [
    "def count_frequency(x): \n",
    "    freq = {} \n",
    "    for item in x: \n",
    "        if (item in freq): \n",
    "            freq[item] += 1\n",
    "        else: \n",
    "            freq[item] = 1\n",
    "    return freq"
   ]
  },
  {
   "cell_type": "code",
   "execution_count": 17,
   "metadata": {},
   "outputs": [],
   "source": [
    "def random_choices(x, tries):\n",
    "    sequence = []\n",
    "    while len(sequence) < tries:\n",
    "        sequence.append(random.choice(x))\n",
    "    return sequence"
   ]
  },
  {
   "cell_type": "code",
   "execution_count": 18,
   "metadata": {},
   "outputs": [],
   "source": [
    "def make_subsample(num_items, x):\n",
    "    resulting_sequence = []\n",
    "    weights = []\n",
    "    while num_items:\n",
    "        number_of_tries = 1000000\n",
    "        sequence = random_choices(x, number_of_tries)\n",
    "        freq = count_frequency(sequence)\n",
    "        highest = max(freq.values())\n",
    "        for key, value in freq.items():\n",
    "            if value == highest:\n",
    "                resulting_sequence.append(key)\n",
    "                weights.append(value / number_of_tries)\n",
    "                x.remove(key)\n",
    "                break ;\n",
    "        random.shuffle(x)\n",
    "        num_items -= 1\n",
    "    return resulting_sequence"
   ]
  },
  {
   "cell_type": "code",
   "execution_count": 19,
   "metadata": {},
   "outputs": [],
   "source": [
    "def read_and_get():\n",
    "\tN = 100\n",
    "\tx  = read_4bytes()\n",
    "\tmake_subsample(N, x)"
   ]
  },
  {
   "cell_type": "code",
   "execution_count": 13,
   "metadata": {},
   "outputs": [
    {
     "name": "stdout",
     "output_type": "stream",
     "text": [
      "[-622001696, -276395985, -590608221, 2060199023, -2052754285, -1099868881, 1815720720, -963877812, -2104920217, 749999500, 1560009888, -437962021, 1168408591, 136799282, 1827792643, -32100123, 1147037685, -798645600, -569551002, -1537804358, -29312832, -1721469097, 1168596507, 1507556578, -1510204721, -679509989, 1584686990, -1688181754, -167908007, -879795462, -303888200, 283640136, -736569468, 2001770779, 777530410, 1460909754, -691228487, 2143749290, 1793863157, 308548005, 729392415, 1534207342, 1553668352, -875491435, -1456942715, -1254118664, 135854066, -851844474, 191216529, -622154216, -495778357, 238405618, 2130456082, 1512640010, 794477442, 799479192, -2003290720, -883935764, -1826152261, -1853942717, 1043440242, 1515199185, -584022934, 589317540, -2076525341, 1220537357, 629260360, 419196003, 442538333, 309369220, -1153503715, 885592802, -1336587590, -1551115331, -390274012, -1540675465, 1514080776, -1455061836, -1011336634, -396500646, -282501790, 1979975858, 53604405, 544983132, -697742224, 1871764884, 280537285, -869972631, 949829730, 1971577048, -1855895687, -437860161, -1830785930, 1552684763, 1241117179, 89775217, 1601722282, 700683389, -542107563, 2018712980] \n",
      " [0.000141, 0.00014, 0.000141, 0.000141, 0.000146, 0.00014, 0.00014, 0.00014, 0.00014, 0.000142, 0.000143, 0.000139, 0.000138, 0.00014, 0.000136, 0.000137, 0.000142, 0.000137, 0.000143, 0.000137, 0.000135, 0.000144, 0.00014, 0.00014, 0.000138, 0.000141, 0.000139, 0.000141, 0.000138, 0.000138, 0.00014, 0.000137, 0.000145, 0.000137, 0.000139, 0.000146, 0.00014, 0.000136, 0.000138, 0.000137, 0.000139, 0.000138, 0.000143, 0.000142, 0.000138, 0.000145, 0.000138, 0.000139, 0.000138, 0.000136, 0.000147, 0.000147, 0.000144, 0.000137, 0.000141, 0.000143, 0.000141, 0.000138, 0.000139, 0.000147, 0.000143, 0.000139, 0.000147, 0.000136, 0.000138, 0.000143, 0.000138, 0.000138, 0.000147, 0.00014, 0.000138, 0.000151, 0.000145, 0.000149, 0.000138, 0.000141, 0.000143, 0.00014, 0.000147, 0.00014, 0.000135, 0.000148, 0.000137, 0.00014, 0.000138, 0.000145, 0.000147, 0.000136, 0.000141, 0.000141, 0.000138, 0.000139, 0.000138, 0.000138, 0.000144, 0.000137, 0.00014, 0.000146, 0.000143, 0.000139]\n"
     ]
    }
   ],
   "source": [
    "read_and_get()"
   ]
  },
  {
   "cell_type": "code",
   "execution_count": 31,
   "metadata": {},
   "outputs": [],
   "source": [
    "from concurrent.futures import ThreadPoolExecutor, ProcessPoolExecutor\n",
    "import multiprocessing as mp\n",
    "from multiprocessing import Pool, Value, Array\n",
    "import time\n",
    "from numba import njit\n",
    "from multiprocessing import Process, current_process\n",
    "import os"
   ]
  },
  {
   "cell_type": "code",
   "execution_count": 32,
   "metadata": {},
   "outputs": [],
   "source": [
    "def check_the_pid():\n",
    "    N = 100\n",
    "    x  = read_4bytes()\n",
    "    subsample = make_subsample(N, x)\n",
    "    proc_file = str(current_process().name) + \".txt\"\n",
    "    pid = os.getpid()\n",
    "    f = open(proc_file, \"w+\")\n",
    "    for i in subsample:\n",
    "        if i % (3 * pid) == 0:\n",
    "            print(i)\n",
    "            f.write(\"%d\\r\\n\" % (i))\n",
    "    f.close()\n",
    "    return pid"
   ]
  },
  {
   "cell_type": "code",
   "execution_count": 35,
   "metadata": {},
   "outputs": [
    {
     "name": "stdout",
     "output_type": "stream",
     "text": [
      "CPU times: user 20 µs, sys: 0 ns, total: 20 µs\n",
      "Wall time: 29.3 µs\n"
     ]
    }
   ],
   "source": [
    "%%time\n",
    "def multiprocessing_pool():\n",
    "    PROCESSES = 4\n",
    "    with ProcessPoolExecutor(max_workers = PROCESSES) as pool:\n",
    "        #params = read_and_get()\n",
    "        results = pool.map(check_the_pid, chunksize=100)\n",
    "        \n",
    "    for r in results:\n",
    "        print('\\t', r.get())"
   ]
  },
  {
   "cell_type": "code",
   "execution_count": 36,
   "metadata": {},
   "outputs": [
    {
     "name": "stdout",
     "output_type": "stream",
     "text": [
      "CPU times: user 778 µs, sys: 2 µs, total: 780 µs\n",
      "Wall time: 608 µs\n"
     ]
    }
   ],
   "source": [
    "%%time\n",
    "multiprocessing_pool()"
   ]
  },
  {
   "cell_type": "code",
   "execution_count": null,
   "metadata": {},
   "outputs": [],
   "source": []
  },
  {
   "cell_type": "code",
   "execution_count": null,
   "metadata": {},
   "outputs": [],
   "source": []
  }
 ],
 "metadata": {
  "kernelspec": {
   "display_name": "Python 3",
   "language": "python",
   "name": "python3"
  },
  "language_info": {
   "codemirror_mode": {
    "name": "ipython",
    "version": 3
   },
   "file_extension": ".py",
   "mimetype": "text/x-python",
   "name": "python",
   "nbconvert_exporter": "python",
   "pygments_lexer": "ipython3",
   "version": "3.7.6"
  }
 },
 "nbformat": 4,
 "nbformat_minor": 4
}
