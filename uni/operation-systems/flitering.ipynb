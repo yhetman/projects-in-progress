{
 "cells": [
  {
   "cell_type": "code",
   "execution_count": 1,
   "metadata": {},
   "outputs": [],
   "source": [
    "from concurrent.futures import ThreadPoolExecutor, ProcessPoolExecutor\n",
    "import multiprocessing as mp\n",
    "from multiprocessing import Pool, Value, Array, Process, current_process\n",
    "import time\n",
    "import os\n",
    "import numpy as np\n",
    "import random"
   ]
  },
  {
   "cell_type": "code",
   "execution_count": 2,
   "metadata": {},
   "outputs": [],
   "source": [
    "\n",
    "\n",
    "def read_4bytes(filename):\n",
    "    numbers = []\n",
    "    with open(filename, 'br') as f:\n",
    "        data = f.read(4)\n",
    "        while data:\n",
    "            number = int.from_bytes(data, \"big\", signed=True)\n",
    "            numbers.append(number)\n",
    "            data = f.read(4)\n",
    "    return numbers\n",
    "\n"
   ]
  },
  {
   "cell_type": "code",
   "execution_count": 3,
   "metadata": {},
   "outputs": [],
   "source": [
    "def count_frequency(x): \n",
    "    freq = {} \n",
    "    for item in x: \n",
    "        if (item in freq): \n",
    "            freq[item] += 1\n",
    "        else: \n",
    "            freq[item] = 1\n",
    "    return freq"
   ]
  },
  {
   "cell_type": "code",
   "execution_count": 4,
   "metadata": {},
   "outputs": [],
   "source": [
    "def random_choices(x, tries):\n",
    "    sequence = []\n",
    "    while len(sequence) < tries:\n",
    "        sequence.append(random.choice(x))\n",
    "    return sequence"
   ]
  },
  {
   "cell_type": "code",
   "execution_count": 5,
   "metadata": {},
   "outputs": [],
   "source": [
    "def make_subsample(num_items, x):\n",
    "    resulting_sequence = []\n",
    "    weights = []\n",
    "    while num_items:\n",
    "        number_of_tries = 1000000\n",
    "        sequence = random_choices(x, number_of_tries)\n",
    "        freq = count_frequency(sequence)\n",
    "        highest = max(freq.values())\n",
    "        for key, value in freq.items():\n",
    "            if value == highest:\n",
    "                resulting_sequence.append(key)\n",
    "                weights.append(value / number_of_tries)\n",
    "                x.remove(key)\n",
    "                break ;\n",
    "        random.shuffle(x)\n",
    "        num_items -= 1\n",
    "    return resulting_sequence\n"
   ]
  },
  {
   "cell_type": "code",
   "execution_count": 6,
   "metadata": {},
   "outputs": [],
   "source": [
    "def check_the_pid(parameters):\n",
    "    filename, N = parameters\n",
    "    start_time = time.time()\n",
    "    x  = read_4bytes(filename)\n",
    "    time_for_reading = start_time - time.time()\n",
    "    subsample = make_subsample(N, x)\n",
    "    time_for_sampling = time_for_reading - time.time()\n",
    "    pid = int(os.getpid())\n",
    "    proc_file = str(current_process().name)+\"-\"+ str(pid)+ \".txt\"\n",
    "    f = open(proc_file, \"a+\")\n",
    "    f.write(\"Process ID : %d\\nParent ID : %d\\n\" % (pid, os.getppid()))\n",
    "    res = []\n",
    "    for i in subsample:\n",
    "        f.write(\"%d\\n\" % (i))\n",
    "        if i % (3 * pid) == 0:\n",
    "            res.append(i)\n",
    "    for i in res: f.write(\"%s\\nФ\" % (i))\n",
    "    f.write(\"Execution time: %d\\nTime spent for reading file: %d\\nTime spent fot sampling: %d\\n\"\n",
    "            % (start_time - time.time(), time_for_reading, time_for_sampling))\n",
    "    f.close()\n"
   ]
  },
  {
   "cell_type": "code",
   "execution_count": 7,
   "metadata": {},
   "outputs": [],
   "source": [
    "def check_the_pid_(args):\n",
    "    return check_the_pid(*args)"
   ]
  },
  {
   "cell_type": "code",
   "execution_count": 8,
   "metadata": {
    "scrolled": true
   },
   "outputs": [],
   "source": [
    "def several_files():\n",
    "    files = []\n",
    "    variant = int(input(\"Press 1 if you want to use 1 file, press 2 - if different\"))\n",
    "    if variant == 2:\n",
    "        num = int(input(\"How many files to use? \"))\n",
    "        for i in range(num):\n",
    "            files.append(str(input(\"Enter file name : \")))\n",
    "    if variant == 1:\n",
    "        files.append(str(input(\"Enter file name : \")))\n",
    "    else:\n",
    "        print(\"Invalid input\")\n",
    "        exit()\n",
    "    return files"
   ]
  },
  {
   "cell_type": "code",
   "execution_count": 39,
   "metadata": {},
   "outputs": [
    {
     "name": "stdout",
     "output_type": "stream",
     "text": [
      "[('example', 100), ('example', 100), ('example', 100), ('example', 100), ('example', 100), ('example', 100), ('example', 100), ('example', 100)]\n",
      "CPU times: user 198 ms, sys: 71.3 ms, total: 269 ms\n",
      "Wall time: 4min 54s\n"
     ]
    }
   ],
   "source": [
    "%%time\n",
    "import multiprocessing\n",
    "from multiprocessing import Pool\n",
    "from functools import partial\n",
    "PROCESSES = 8\n",
    "N = 100\n",
    "files = ['example'] #, 'example', 'example']#several_files()\n",
    "parameters = [(i, N) for i in files]\n",
    "if len(files) > 1: PROCESSES = len(files)\n",
    "if len(files) == 1: parameters *= PROCESSES\n",
    "print(parameters)\n",
    "fp = partial(check_the_pid, N=N)\n",
    "with multiprocessing.Pool(PROCESSES) as pool:\n",
    "    pool.map(check_the_pid, parameters)"
   ]
  },
  {
   "cell_type": "code",
   "execution_count": null,
   "metadata": {},
   "outputs": [],
   "source": [
    "%%time\n",
    "for i in range(PROCESSES):\n",
    "    check_the_pid(parameters[i])"
   ]
  },
  {
   "cell_type": "code",
   "execution_count": 16,
   "metadata": {
    "scrolled": true
   },
   "outputs": [],
   "source": [
    "import _thread\n",
    "import threading\n",
    "from threading import current_thread, Lock"
   ]
  },
  {
   "cell_type": "code",
   "execution_count": null,
   "metadata": {},
   "outputs": [],
   "source": [
    "\n",
    "\n",
    "class myThread(threading.Thread):\n",
    "    def __init__(self, threadID, parameters, lock):\n",
    "        threading.Thread.__init__(self)\n",
    "        #self.threadID = threadID\n",
    "        self.name = \"Thread-\" + str(threadID)\n",
    "        self.filename, self.number = parameters\n",
    "        self.lock = lock\n",
    "    def run(self):\n",
    "        print (\"Starting \" + self.name)\n",
    "        _thread_task(self.filename, self.number, self.lock)\n",
    "        print (\"Exiting \" + self.name)\n",
    "\n",
    "def _thread_task(filename, N, lock):\n",
    "    lock.acquire() \n",
    "    filtering(filename, N)\n",
    "    lock.release()\n",
    "\n"
   ]
  },
  {
   "cell_type": "code",
   "execution_count": 17,
   "metadata": {},
   "outputs": [],
   "source": [
    "def filtering(_id, filename, N):\n",
    "    start_time = time.time()\n",
    "    x  = read_4bytes(filename)\n",
    "    time_for_reading = time.time() - start_time\n",
    "    subsample = make_subsample(N, x)\n",
    "    time_for_sampling = time.time() - time_for_reading\n",
    "    thread_file = (str(\"Thread-\")+str(_id)+\".txt\")\n",
    "    f = open(thread_file, \"a+\")\n",
    "    f.write(\"Process ID : %d\\nParent ID : %d\\n\" % (_id,os.getppid()))\n",
    "    res = []\n",
    "    for i in subsample:\n",
    "        f.write(\"%d\\n\" % (i))\n",
    "        if i % (3 * int(_id)) == 0:\n",
    "            res.append(i)\n",
    "    for i in res: f.write(\"%d\\n\" % (i))\n",
    "    f.write(\"Execution time: %s\\nTime spent for reading file: %s\\nTime spent fot sampling: %s\\n\"\n",
    "            % (str(time.time() - start_time ), str(time_for_reading), str(time_for_sampling)))\n",
    "    f.close()"
   ]
  },
  {
   "cell_type": "code",
   "execution_count": 34,
   "metadata": {},
   "outputs": [],
   "source": [
    "def thread_task(filename, N):\n",
    "    #filename, N = parameters\n",
    "    _id = threading.current_thread().ident\n",
    "    print(\"Started Thread-\"+str(_id)+ \"...\")\n",
    "    filtering(_id, filename, N)\n",
    "    print(\"Ended Thread-\"+str(_id)+ \"...\")\n",
    "    #name = \"Thread-\" + str(_id)\n",
    "    #name_id = (name, _id)\n",
    "    "
   ]
  },
  {
   "cell_type": "code",
   "execution_count": 37,
   "metadata": {},
   "outputs": [],
   "source": [
    "def create_thread_in_process(parameters):\n",
    "    filename, N = parameters\n",
    "    thread = threading.Thread(target=thread_task, args=(filename, N))\n",
    "    thread.start()\n",
    "    thread.join()"
   ]
  },
  {
   "cell_type": "code",
   "execution_count": 38,
   "metadata": {},
   "outputs": [
    {
     "name": "stdout",
     "output_type": "stream",
     "text": [
      "Started Thread-140418830288640...Started Thread-140418830288640...Started Thread-140418830288640...Started Thread-140418830288640...Started Thread-140418830288640...Started Thread-140418830288640...Started Thread-140418830288640...\n",
      "\n",
      "\n",
      "\n",
      "Started Thread-140418830288640...\n",
      "\n",
      "\n",
      "\n",
      "Ended Thread-140418830288640...\n",
      "Ended Thread-140418830288640...\n",
      "Ended Thread-140418830288640...\n",
      "Ended Thread-140418830288640...\n",
      "Ended Thread-140418830288640...\n",
      "Ended Thread-140418830288640...\n",
      "Ended Thread-140418830288640...\n",
      "Ended Thread-140418830288640...\n",
      "Exiting Main Thread\n",
      "CPU times: user 166 ms, sys: 116 ms, total: 282 ms\n",
      "Wall time: 4min 41s\n"
     ]
    }
   ],
   "source": [
    "%%time\n",
    "#def creating_threads():\n",
    "THREADS = 8\n",
    "N = 100\n",
    "files = ['example'] #several_files()\n",
    "parameters = [(i, N) for i in files]\n",
    "if len(files) > 1: THREADS = len(files)\n",
    "if len(files) == 1: parameters *= THREADS\n",
    "\n",
    "# Create new threads\n",
    "#name = \"Thread-\"\n",
    "#lock = threading.Lock() \n",
    "\n",
    "with multiprocessing.Pool(THREADS) as pool:\n",
    "    pool.map(create_thread_in_process, parameters)\n",
    "    \n",
    "#with ThreadPoolExecutor(max_workers=THREADS) as executor:\n",
    "#    executor.map(thread_task, parameters)\n",
    "    \n",
    "#threads = [myThread(threadID, parameter, lock)\n",
    "#           for threadID, parameter in enumerate(parameters)]\n",
    "#\n",
    "#for thread in threads:\n",
    "#    thread.start()\n",
    "#for parameter in parameters:\n",
    "#    thread = myThread(threadID, parameter, lock)\n",
    "#    \n",
    "#    threads.append(thread)\n",
    "#    threadID += 1\n",
    "#\n",
    "#for thread in threads:\n",
    "#    thread.join()\n",
    "\n",
    "print (\"Exiting Main Thread\")"
   ]
  },
  {
   "cell_type": "code",
   "execution_count": null,
   "metadata": {},
   "outputs": [],
   "source": []
  }
 ],
 "metadata": {
  "kernelspec": {
   "display_name": "Python 3",
   "language": "python",
   "name": "python3"
  },
  "language_info": {
   "codemirror_mode": {
    "name": "ipython",
    "version": 3
   },
   "file_extension": ".py",
   "mimetype": "text/x-python",
   "name": "python",
   "nbconvert_exporter": "python",
   "pygments_lexer": "ipython3",
   "version": "3.7.6"
  }
 },
 "nbformat": 4,
 "nbformat_minor": 4
}
