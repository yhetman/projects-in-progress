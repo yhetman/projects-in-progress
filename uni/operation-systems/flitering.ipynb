{
 "cells": [
  {
   "cell_type": "code",
   "execution_count": 47,
   "metadata": {},
   "outputs": [],
   "source": [
    "from concurrent.futures import ThreadPoolExecutor, ProcessPoolExecutor\n",
    "import multiprocessing as mp\n",
    "from multiprocessing import Pool, Value, Array, Process, current_process\n",
    "import time\n",
    "import os\n",
    "import numpy as np\n",
    "import random"
   ]
  },
  {
   "cell_type": "code",
   "execution_count": 48,
   "metadata": {},
   "outputs": [],
   "source": [
    "def read_4bytes():\n",
    "    numbers = []\n",
    "    with open('example', 'br') as f:\n",
    "        data = f.read(4)\n",
    "        while data:\n",
    "            number = int.from_bytes(data, \"big\", signed=True)\n",
    "            numbers.append(number)\n",
    "            data = f.read(4)\n",
    "    return numbers\n"
   ]
  },
  {
   "cell_type": "code",
   "execution_count": 49,
   "metadata": {},
   "outputs": [],
   "source": [
    "def count_frequency(x): \n",
    "    freq = {} \n",
    "    for item in x: \n",
    "        if (item in freq): \n",
    "            freq[item] += 1\n",
    "        else: \n",
    "            freq[item] = 1\n",
    "    return freq"
   ]
  },
  {
   "cell_type": "code",
   "execution_count": 50,
   "metadata": {},
   "outputs": [],
   "source": [
    "def random_choices(x, tries):\n",
    "    sequence = []\n",
    "    while len(sequence) < tries:\n",
    "        sequence.append(random.choice(x))\n",
    "    return sequence"
   ]
  },
  {
   "cell_type": "code",
   "execution_count": 51,
   "metadata": {},
   "outputs": [],
   "source": [
    "def make_subsample(num_items, x):\n",
    "    resulting_sequence = []\n",
    "    weights = []\n",
    "    while num_items:\n",
    "        number_of_tries = 1000000\n",
    "        sequence = random_choices(x, number_of_tries)\n",
    "        freq = count_frequency(sequence)\n",
    "        highest = max(freq.values())\n",
    "        for key, value in freq.items():\n",
    "            if value == highest:\n",
    "                resulting_sequence.append(key)\n",
    "                weights.append(value / number_of_tries)\n",
    "                x.remove(key)\n",
    "                break ;\n",
    "        random.shuffle(x)\n",
    "        num_items -= 1\n",
    "    return resulting_sequence"
   ]
  },
  {
   "cell_type": "code",
   "execution_count": 52,
   "metadata": {},
   "outputs": [],
   "source": [
    "def check_the_pid(subsample):\n",
    "    subsample = make_subsample(N, x)\n",
    "    proc_file = str(current_process().name) + \".txt\"\n",
    "    pid = os.getpid()\n",
    "    f = open(proc_file, \"a+\")\n",
    "    res = []\n",
    "    for i in subsample:\n",
    "        if i % (3 * pid) == 0:\n",
    "            res.append(i)\n",
    "            f.write(\"%d\\r\\n\" % (i))\n",
    "    f.close()\n",
    "    return res"
   ]
  },
  {
   "cell_type": "code",
   "execution_count": null,
   "metadata": {},
   "outputs": [],
   "source": [
    "def check_the_pid_(args):\n",
    "    return check_the_pid(*args)"
   ]
  },
  {
   "cell_type": "code",
   "execution_count": 53,
   "metadata": {
    "scrolled": true
   },
   "outputs": [],
   "source": [
    "#%%time\n",
    "#def test():\n",
    "#    N = 100\n",
    "#    x  = read_4bytes()\n",
    "#    subsample = make_subsample(N, x)\n",
    "#    print(subsample)\n",
    "#    print(check_the_pid(subsample))\n",
    "#test()"
   ]
  },
  {
   "cell_type": "code",
   "execution_count": 54,
   "metadata": {},
   "outputs": [],
   "source": [
    "def multiprocessing_pool():\n",
    "    PROCESSES = 4\n",
    "    N = 100\n",
    "    x  = read_4bytes()\n",
    "    with ProcessPoolExecutor(max_workers = PROCESSES) as pool:\n",
    "        #params = read_and_get()\n",
    "        results = pool.map(check_the_pid_, np.array_split(subsample, N), chunksize=100)\n",
    "    return results"
   ]
  },
  {
   "cell_type": "code",
   "execution_count": 55,
   "metadata": {},
   "outputs": [
    {
     "name": "stdout",
     "output_type": "stream",
     "text": [
      "CPU times: user 6.42 ms, sys: 0 ns, total: 6.42 ms\n",
      "Wall time: 5.95 ms\n"
     ]
    }
   ],
   "source": [
    "%%time\n",
    "PROCESSES = 4\n",
    "N = 100\n",
    "x  = read_4bytes()"
   ]
  },
  {
   "cell_type": "code",
   "execution_count": 56,
   "metadata": {},
   "outputs": [
    {
     "name": "stdout",
     "output_type": "stream",
     "text": [
      "CPU times: user 1min 24s, sys: 91.8 ms, total: 1min 24s\n",
      "Wall time: 1min 24s\n"
     ]
    },
    {
     "data": {
      "text/plain": [
       "<generator object _chain_from_iterable_of_lists at 0x7ff5e9ad7550>"
      ]
     },
     "execution_count": 56,
     "metadata": {},
     "output_type": "execute_result"
    }
   ],
   "source": [
    "%%time\n",
    "\n",
    "multiprocessing_pool()"
   ]
  },
  {
   "cell_type": "code",
   "execution_count": null,
   "metadata": {},
   "outputs": [],
   "source": []
  },
  {
   "cell_type": "code",
   "execution_count": null,
   "metadata": {},
   "outputs": [],
   "source": []
  }
 ],
 "metadata": {
  "kernelspec": {
   "display_name": "Python 3",
   "language": "python",
   "name": "python3"
  },
  "language_info": {
   "codemirror_mode": {
    "name": "ipython",
    "version": 3
   },
   "file_extension": ".py",
   "mimetype": "text/x-python",
   "name": "python",
   "nbconvert_exporter": "python",
   "pygments_lexer": "ipython3",
   "version": "3.7.6"
  }
 },
 "nbformat": 4,
 "nbformat_minor": 4
}
