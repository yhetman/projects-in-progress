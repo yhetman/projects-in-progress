{
 "cells": [
  {
   "cell_type": "code",
   "execution_count": 1,
   "metadata": {},
   "outputs": [],
   "source": [
    "from concurrent.futures import ThreadPoolExecutor, ProcessPoolExecutor\n",
    "import multiprocessing as mp\n",
    "from multiprocessing import Pool, Value, Array, Process, current_process\n",
    "import time\n",
    "import os\n",
    "import numpy as np\n",
    "import random"
   ]
  },
  {
   "cell_type": "code",
   "execution_count": 32,
   "metadata": {},
   "outputs": [],
   "source": [
    "\n",
    "\n",
    "def read_4bytes(filename):\n",
    "    numbers = []\n",
    "    with open(filename, 'br') as f:\n",
    "        data = f.read(4)\n",
    "        while data:\n",
    "            number = int.from_bytes(data, \"big\", signed=True)\n",
    "            numbers.append(number)\n",
    "            data = f.read(4)\n",
    "    return numbers\n",
    "\n"
   ]
  },
  {
   "cell_type": "code",
   "execution_count": 33,
   "metadata": {},
   "outputs": [],
   "source": [
    "def count_frequency(x): \n",
    "    freq = {} \n",
    "    for item in x: \n",
    "        if (item in freq): \n",
    "            freq[item] += 1\n",
    "        else: \n",
    "            freq[item] = 1\n",
    "    return freq"
   ]
  },
  {
   "cell_type": "code",
   "execution_count": 34,
   "metadata": {},
   "outputs": [],
   "source": [
    "def random_choices(x, tries):\n",
    "    sequence = []\n",
    "    while len(sequence) < tries:\n",
    "        sequence.append(random.choice(x))\n",
    "    return sequence"
   ]
  },
  {
   "cell_type": "code",
   "execution_count": 35,
   "metadata": {},
   "outputs": [],
   "source": [
    "def make_subsample(num_items, x):\n",
    "    resulting_sequence = []\n",
    "    weights = []\n",
    "    while num_items:\n",
    "        number_of_tries = 1000000\n",
    "        sequence = random_choices(x, number_of_tries)\n",
    "        freq = count_frequency(sequence)\n",
    "        highest = max(freq.values())\n",
    "        for key, value in freq.items():\n",
    "            if value == highest:\n",
    "                resulting_sequence.append(key)\n",
    "                weights.append(value / number_of_tries)\n",
    "                x.remove(key)\n",
    "                break ;\n",
    "        random.shuffle(x)\n",
    "        num_items -= 1\n",
    "    return resulting_sequence\n"
   ]
  },
  {
   "cell_type": "code",
   "execution_count": 36,
   "metadata": {},
   "outputs": [],
   "source": [
    "def check_the_pid(parameters):\n",
    "    filename, N = parameters\n",
    "    start_time = time.time()\n",
    "    x  = read_4bytes(filename)\n",
    "    time_for_reading = start_time - time.time()\n",
    "    subsample = make_subsample(N, x)\n",
    "    time_for_sampling = time_for_reading - time.time()\n",
    "    pid = int(os.getpid())\n",
    "    proc_file = str(current_process().name)+\"-\"+ str(pid)+ \".txt\"\n",
    "    f = open(proc_file, \"a+\")\n",
    "    f.write(\"Process ID : %d\\nParent ID : %d\\n\" % (pid, os.getppid()))\n",
    "    res = []\n",
    "    for i in subsample:\n",
    "        f.write(\"%d\\n\" % (i))\n",
    "        if i % (3 * pid) == 0:\n",
    "            res.append(i)\n",
    "    for i in res: f.write(\"%s\\nФ\" % (i))\n",
    "    f.write(\"Execution time: %d\\nTime spent for reading file: %d\\nTime spent fot sampling: %d\\n\"\n",
    "            % (start_time - time.time(), time_for_reading, time_for_sampling))\n",
    "    f.close()\n"
   ]
  },
  {
   "cell_type": "code",
   "execution_count": 19,
   "metadata": {},
   "outputs": [],
   "source": [
    "def check_the_pid_(args):\n",
    "    return check_the_pid(*args)"
   ]
  },
  {
   "cell_type": "code",
   "execution_count": 37,
   "metadata": {
    "scrolled": true
   },
   "outputs": [],
   "source": [
    "def several_files():\n",
    "    files = []\n",
    "    variant = int(input(\"Press 1 if you want to use 1 file, press 2 - if different\"))\n",
    "    if variant == 2:\n",
    "        num = int(input(\"How many files to use? \"))\n",
    "        for i in range(num):\n",
    "            files.append(str(input(\"Enter file name : \")))\n",
    "    if variant == 1:\n",
    "        files.append(str(input(\"Enter file name : \")))\n",
    "    else:\n",
    "        print(\"Invalid input\")\n",
    "        exit()\n",
    "    return files"
   ]
  },
  {
   "cell_type": "code",
   "execution_count": 39,
   "metadata": {},
   "outputs": [
    {
     "name": "stdout",
     "output_type": "stream",
     "text": [
      "[('example', 100), ('example', 100), ('example', 100), ('example', 100), ('example', 100), ('example', 100), ('example', 100), ('example', 100)]\n",
      "CPU times: user 179 ms, sys: 86.4 ms, total: 266 ms\n",
      "Wall time: 4min 42s\n"
     ]
    }
   ],
   "source": [
    "%%time\n",
    "import multiprocessing\n",
    "from multiprocessing import Pool\n",
    "from functools import partial\n",
    "PROCESSES = 8\n",
    "N = 100\n",
    "files = ['example'] #, 'example', 'example']#several_files()\n",
    "parameters = [(i, N) for i in files]\n",
    "if len(files) > 1: PROCESSES = len(files)\n",
    "if len(files) == 1: parameters *= PROCESSES\n",
    "print(parameters)\n",
    "fp = partial(check_the_pid, N=N)\n",
    "with multiprocessing.Pool(PROCESSES) as pool:\n",
    "    pool.map(check_the_pid, parameters)"
   ]
  },
  {
   "cell_type": "code",
   "execution_count": 40,
   "metadata": {},
   "outputs": [
    {
     "name": "stdout",
     "output_type": "stream",
     "text": [
      "cpu-time-monoprocess-4vcpu.png\tForkPoolWorker-31-23619.txt\r\n",
      "cpu-time-monoprocess-8cpu.png\tForkPoolWorker-32-23620.txt\r\n",
      "cpu-time-polyprocess-4vcpu.png\tForkPoolWorker-923270.txt\r\n",
      "example\t\t\t\tForkProcess-13.txt\r\n",
      "filtering.c\t\t\tForkProcess-17.txt\r\n",
      "filtering.py\t\t\tForkProcess-1.txt\r\n",
      "filtering.pyx\t\t\tForkProcess-5.txt\r\n",
      "flitering.ipynb\t\t\tForkProcess-9.txt\r\n",
      "fork-ex.c\t\t\tgenerate-random.sh\r\n",
      "ForkPoolWorker-1723330.txt\tlatest-commit\r\n",
      "ForkPoolWorker-1.txt\t\tMainProcess.txt\r\n",
      "ForkPoolWorker-25-23613.txt\tmc-approximation.py\r\n",
      "ForkPoolWorker-26-23614.txt\tmonte-carlo-ex.c\r\n",
      "ForkPoolWorker-27-23615.txt\tparallel-notebook.ipynb\r\n",
      "ForkPoolWorker-28-23616.txt\tread-hex-to-uint.sh\r\n",
      "ForkPoolWorker-29-23617.txt\tthreads-ex.c\r\n",
      "ForkPoolWorker-30-23618.txt\r\n"
     ]
    }
   ],
   "source": [
    "!ls\n"
   ]
  },
  {
   "cell_type": "code",
   "execution_count": 10,
   "metadata": {},
   "outputs": [
    {
     "name": "stdout",
     "output_type": "stream",
     "text": [
      "[-1092056367, 1006554582, 171063601, 840957311, -710892301, -301284384, -1231963340, 489375044, -490450096, -2135830831, 1950041440, -503125113, -1639974830, 1570204111, -75748685, -528513982, -1857074869, 1894951609, 1019421123, -953366252, 33044647, -158978848, -198407566, -1920484449, -324256890, -1247778941, 262544929, -336654498, -527067087, -1871717194, 826841243, 623294638, 24660898, 186524022, 905105739, 644741141, -1286245736, -1430279130, -1574713543, -36737963, 168238621, 813730202, 271545394, -1201581829, 928709660, -1667011686, -1184394817, -563026442, 1283066431, -2053344603, 2136775895, 2044741581, 533854357, 1768218196, -1762728935, -464993285, 1087793824, 2042920686, -1689013780, -532896657, -1900365890, -633278304, 1975301181, -980544535, -143383379, -32995825, -1405425045, -679461956, -974397494, -600188529, -1121511871, -1363562625, -731260070, 1712473040, 919675731, -938848318, -1938878886, -12801363, -743090956, 1479676921, 1094022365, 216172736, 2125613771, 1608847347, 640860882, 901710741, -202386152, 890656159, -672117795, -2126877283, -1037563996, 1598763774, -1823511435, 1969083424, 243362892, -460651635, 1785880494, 1294079016, -1944307175, 972916469]\n",
      "Process ID : 12737 Parent ID : 12652\n",
      "RESULTS :  []\n",
      "[1495859516, 135159263, -375116632, 1791872109, 1203943672, -771584392, 1746453927, -2077344132, -642716996, -1189401471, 1980327861, -2009836654, 1981270052, -1957999270, 59009869, -33608585, 922043207, 974183156, -938848318, -30545192, 1410922522, 372079243, -900308302, 370654908, 1892461104, 2005206141, 1879030219, 2038306330, 2084864046, 2094325385, 556717809, 551210056, -826860679, 1423145719, -1976946665, 567480295, -1270873151, -1947216564, -75043646, 1599149984, -1930750783, 504205542, -616849721, -1129565670, 337507365, 1275707447, -296946401, -475041744, 663340212, -1117700140, -1057463467, -1875103411, -691228487, -148299913, -1123485568, -1437451211, -2029486703, -1722380324, 1991854347, -1545837432, -1917706386, -730936493, -58336725, 66271718, 1565532197, 2088140869, -1876914894, 1595075228, -842908571, 646374454, 563506072, 1459415105, -1136437243, 1073273764, 1229341837, 2028267643, -2043493723, -2113004079, 1086825300, -647704487, -285219829, -1958776492, 1152191635, 760381283, 593303076, -704423695, -2119676740, -1734411339, 970771387, -1226878767, 1228219805, -601441939, 374208306, -1664524816, 2043443796, -714482846, -907513048, -631796178, -2080644845, -1985028934]\n",
      "Process ID : 12737 Parent ID : 12652\n",
      "RESULTS :  []\n",
      "[-681763136, 1878614675, 6650368, -1015609565, 1871039816, 396815452, 1028987827, 561938950, -953366252, -136111918, 826260460, 110775207, -283854954, -1787443111, -346377401, -2059373052, -818630472, -89667748, -1270113567, -1897311402, 2096720671, 337011544, 1948002207, 1919168187, -201445852, 488294880, -56108094, -351206405, 266114965, -1978326277, -265029599, 221690011, 1494598036, -219465743, -933704759, -434428683, 1948030938, 729392415, 984867137, -1804045330, -1195129706, 1647932707, 1962079485, 1266967814, -78443057, -1451899296, 1835136030, -1635939598, -895771057, -580189049, -38602704, 1639257229, -2141079008, 1597526664, -1412613608, 53604405, -2119072792, -134539353, -1724540156, 1838599151, -2123018972, 1132080565, 1289449597, 591661868, -395906113, -1908018750, -1659341436, 1085495782, 1168873526, 485240442, 482019792, -495654897, -800867481, -1874855298, 972512507, -396500646, -467012172, 2042049313, 585251677, -1466789356, -18745788, -1851324581, -1442437701, -1233925681, 1075120989, 1770587557, -92886882, 86391852, 818097954, -94568665, -699865955, 1397624524, 382692562, 1420075608, -100944188, 1684737202, -299103863, 1583005784, 97943, 477456260]\n",
      "Process ID : 12737 Parent ID : 12652\n",
      "RESULTS :  []\n",
      "[488442835, 543132529, 172516056, -1722790008, -1886381155, -641726423, 616761446, -935398871, 87650828, -1960225603, 465145427, 1063529820, -1335512955, 1496785010, 400873160, -1953505606, -1268953241, -1969978117, -1437451211, 653666940, 11873583, -1000275916, -403995119, 1168976123, 282577325, -1083102651, -922083409, -1240930596, -102679753, 1743522580, -2087073215, -1647783095, -970633624, -788835477, -904321513, 624786487, -11261520, 1575170408, -1226640952, 884492750, 345399454, 1648487411, 1963047788, 1363070297, 362219729, 297278637, -553965684, -890320265, -1709976896, -665678809, -785556105, 1282859359, 1496400257, -1640808735, 197827603, -1200169268, 1255078120, 26013101, -1140971025, -1066767805, -1798610318, -738687691, 1276053424, -145008781, -239718849, -496002907, 1706592730, 27567969, 1821859008, 916093092, -291823475, 923372207, 314474847, 2030468264, -1279622212, 762268608, 1968312218, -541034437, 76185085, 402281235, 422641278, -1743928760, -640873242, -15203445, 1561748555, -985718056, 1408625684, 1131095056, 671273677, 1159795497, 770647487, 1026780738, -2112380411, 1643846185, 2093791653, -891745689, 219455240, 1279722605, -893922824, 1198051485]\n",
      "Process ID : 12737 Parent ID : 12652\n",
      "RESULTS :  []\n",
      "[-562752752, -528513982, -2114604207, -2133530979, -1980504473, -1956849281, 1487629184, -1480622699, 1535901145, -492263787, -660771584, 1333832796, 1438182263, 141834040, -157280478, 651254242, 865635580, 87650828, -246538859, 2032521972, 1525433785, 2006605694, -1667099637, 1882138944, 496561153, 1523152574, -1151970104, -1994742438, 1195313043, -495461384, 497691896, 90020064, 1564379097, -1320229924, 885929711, -158978848, 141203108, -1828449032, 796737838, 436065833, 601913145, -2021597537, 914497197, -937042666, 1511534622, -112019503, 1551140477, -1032140321, 2116919582, -915713580, -1219249440, 1071787501, 345175186, -769058749, 193237846, -750576329, 974183156, -2003268229, -1499132632, 1966328065, -516770986, -487322798, 265863072, 183341325, -832454283, -1425178493, 1291792458, 348213810, -587229094, -387736856, -1689202076, 1743200504, -2079003213, 1578239965, -1461455977, 779309112, -84273486, -1857294514, -771536859, 1845973081, 1911237180, 1601193707, -2050118652, 178161075, 2002448034, -1852165688, -1826095830, -404779181, -1958390819, 508700145, -107881883, -761571004, -1668099092, -1830159848, 830989914, 535296760, -730936493, 1841408346, 2028702288, -1268082429]\n",
      "Process ID : 12737 Parent ID : 12652\n",
      "RESULTS :  []\n",
      "[-1867830704, -605107043, -1939261413, 361244849, -842908571, 1470054211, -711111357, -420699484, 1805128678, -1315704820, 1525760789, -1981295233, -889370761, -2141478900, -1764923479, -1142025004, -442179758, 770159304, 1806499525, -1410058778, -1077925941, 1732372850, 923621903, -1089616838, -609533017, 1498264484, -681763136, -422985380, -123192301, 1354035258, 1634163487, -1007496838, -880952077, 936926686, -628016160, 1374052649, 532410278, 2056027436, -215385054, -183652927, 424107366, 601913145, -331617477, -469977262, 1975301181, 590906145, -1246000762, -1787843436, -192603381, 499777407, 321170868, 1736684595, -1872745235, -1803750931, -634085512, 542960057, 506697526, 1390250783, -584917679, 1301057127, -1410331509, 1692791144, -532896657, -673028410, -1617534962, -1270834163, -411937708, -866574439, -612719033, 1739567426, -1008219726, 1028697984, -1821847836, -1445331721, -1460942417, 259672867, -2128690690, -155641383, -1632801265, -1297431325, 787560171, 388060099, 1399736736, 2008519393, -1438840879, -1387939704, 2033885366, -1747737500, -1121511871, -944162532, -1255288864, -1353506753, 791716064, -1085919876, -440559881, -1271839987, 1227110893, -873503148, -1774985162, -921354487]\n",
      "Process ID : 12737 Parent ID : 12652\n",
      "RESULTS :  []\n",
      "[23564161, 1314024059, -1617604590, -437860161, 1791737208, 1657279683, -163778349, -1335362710, 1625421785, 753008717, -1415457223, 542158765, -111204295, -572635063, -1062413976, -281209287, -431635171, 570665389, -407545597, -85845576, 1121520142, 1169393873, -1428903632, -958058963, -487322798, 142300730, -682186622, -1505003295, -2087073215, 78053378, 1088138502, -848966304, 1568563274, 1725653278, -61460878, 1955634516, 1666113587, 105331956, -553965684, -441094888, -1657035333, -2109840976, 1350554706, 1638172334, 677638907, 712054902, 1905234968, 2045715225, -1933417470, 1807338830, 442999506, -1939433355, 1929167946, -1647783095, -1577678525, -61812823, -1712501770, 509149734, 1564972669, -1424417189, -1043943941, -495461384, -1981828105, -490450096, 1696118541, -1687260088, 1956514619, 2140757247, -1449825809, 1079521188, 1821107082, 1527988305, -1405170417, 219100916, -1113254480, -2087387554, -32100123, -1667251767, 410052941, 494946591, 1714954381, 1427681771, -265603862, 2032833489, -1673034810, 241501842, -458689774, 921114153, 1836561534, -562467856, -60005675, -325386680, 426396144, 1603301542, 1176715535, -1085965424, -1038545802, 1726223411, -282260760, -174701190]\n",
      "Process ID : 12737 Parent ID : 12652\n",
      "RESULTS :  []\n"
     ]
    },
    {
     "name": "stdout",
     "output_type": "stream",
     "text": [
      "[1276053424, 1277961659, -633278304, -1247002037, 1189203065, 1494364222, -281392470, 6221037, 1926060046, -679509989, -45600024, 605086302, -569800161, 1727728355, -1038545802, -1635324483, -1039343362, 700471244, 616910817, 309369220, 223666043, 2014716511, -1710068745, -865308569, 939859990, 114845948, 1541401781, 1390197470, -1344038394, 1405219622, 172516056, 947601171, 1742387465, 1906121280, 1132080565, -32170151, 254625764, 1948030938, -47950039, 1232008645, 1791737208, -258631934, 1698550286, 2074657770, 730099619, -1360451358, 1350735003, -1628222453, 760381283, 634440948, 1358677436, 1899858821, -1460942417, -151009405, -1476406404, 254485622, -577173807, -1650211343, 1319380784, -1297842006, -1463716715, 1271580400, 1703219637, 1525760789, -492263787, 1991842898, -549991622, 2137067820, -192095220, 658463139, 86884586, 771727309, -1137978593, 1657279683, 1822241218, 1727909709, -1524925873, 872788850, -1763576120, -1554295330, 1335643647, 1192528957, 1438182263, -148965605, 1543454834, -847194623, 1924313733, 1122200514, -1368330550, -2062074867, 1429261766, 1950798666, 143658118, 1402945224, -1697544981, -1549101095, -1397627248, 1473455577, 2115759863, -1022642432]\n",
      "Process ID : 12737 Parent ID : 12652\n",
      "RESULTS :  []\n",
      "CPU times: user 12min 7s, sys: 196 ms, total: 12min 7s\n",
      "Wall time: 12min 7s\n"
     ]
    }
   ],
   "source": [
    "%%time\n",
    "for i in range(PROCESSES):\n",
    "    check_the_pid(parameters[i])"
   ]
  },
  {
   "cell_type": "code",
   "execution_count": 42,
   "metadata": {
    "scrolled": true
   },
   "outputs": [],
   "source": [
    "import _thread\n",
    "import threading\n"
   ]
  },
  {
   "cell_type": "code",
   "execution_count": 44,
   "metadata": {},
   "outputs": [],
   "source": [
    "\n",
    "\n",
    "class myThread(threading.Thread):\n",
    "    def __init__(self, threadID, parameters):#, lock):\n",
    "        threading.Thread.__init__(self)\n",
    "        self.threadID = threadID\n",
    "        self.name = \"Thread-\" + str(threadID)\n",
    "        self.filename, self.number = parameters\n",
    "        self.lock = lock\n",
    "    def run(self):\n",
    "        print (\"Starting \" + self.name)\n",
    "        thread_task(self.name, self.filename, self.number)#, self.lock)\n",
    "        print (\"Exiting \" + self.name)\n",
    "\n",
    "def thread_task(name, filename, N):#, lock):\n",
    "    #lock.acquire() \n",
    "    filtering(name, filename, N)\n",
    "    #lock.release()\n",
    "\n"
   ]
  },
  {
   "cell_type": "code",
   "execution_count": 45,
   "metadata": {},
   "outputs": [],
   "source": [
    "def filtering(name, filename, N):\n",
    "    start_time = time.time()\n",
    "    x  = read_4bytes(filename)\n",
    "    time_for_reading = time.time() - start_time\n",
    "    subsample = make_subsample(N, x)\n",
    "    time_for_sampling = time.time() - time_for_reading\n",
    "    thread_file = (str(name)+\".txt\")\n",
    "    f = open(thread_file, \"a+\")\n",
    "    pid = int(os.getpid())\n",
    "    f.write(\"Process ID : %d\\nParent ID : %d\\n\" % (os.getppid(), pid))\n",
    "    res = []\n",
    "    for i in subsample:\n",
    "        f.write(\"%d\\n\" % (i))\n",
    "        if i % (3 * pid) == 0:\n",
    "            res.append(i)\n",
    "    if res:\n",
    "        for i in res: f.write(\"%d\\n\" % (i))\n",
    "    f.write(\"Execution time: %s\\nTime spent for reading file: %s\\nTime spent fot sampling: %s\\n\"\n",
    "            % (str(time.time() - start_time ), str(time_for_reading), str(time_for_sampling)))\n",
    "    f.close()"
   ]
  },
  {
   "cell_type": "code",
   "execution_count": 48,
   "metadata": {},
   "outputs": [
    {
     "name": "stdout",
     "output_type": "stream",
     "text": [
      "Starting Thread-1\n",
      "Starting Thread-2\n",
      "Starting Thread-3\n",
      "Starting Thread-4\n",
      "Starting Thread-5\n",
      "Starting Thread-6\n",
      "Starting Thread-7\n",
      "Starting Thread-8\n",
      "Exiting Thread-2\n",
      "Exiting Thread-4\n",
      "Exiting Thread-5\n",
      "Exiting Thread-3\n",
      "Exiting Thread-6\n",
      "Exiting Thread-1\n",
      "Exiting Thread-8\n",
      "Exiting Thread-7\n",
      "Exiting Main Thread\n",
      "CPU times: user 13min 14s, sys: 5.33 s, total: 13min 19s\n",
      "Wall time: 13min 10s\n"
     ]
    }
   ],
   "source": [
    "%%time\n",
    "#def creating_threads():\n",
    "THREADS = 8\n",
    "N = 100\n",
    "files = ['example'] #several_files()\n",
    "parameters = [(i, N) for i in files]\n",
    "if len(files) > 1: THREADS = len(files)\n",
    "if len(files) == 1: parameters *= THREADS\n",
    "\n",
    "# Create new threads\n",
    "threadID = 1\n",
    "name = \"Thread-\"\n",
    "#lock = 0 # threading.Lock() \n",
    "threads = []\n",
    "for parameter in parameters:\n",
    "    thread = myThread(threadID, parameter)#, lock)\n",
    "    thread.start()\n",
    "    threads.append(thread)\n",
    "    threadID += 1\n",
    "\n",
    "for thread in threads:\n",
    "    thread.join()\n",
    "\n",
    "print (\"Exiting Main Thread\")"
   ]
  },
  {
   "cell_type": "code",
   "execution_count": null,
   "metadata": {},
   "outputs": [],
   "source": []
  },
  {
   "cell_type": "code",
   "execution_count": null,
   "metadata": {},
   "outputs": [],
   "source": []
  }
 ],
 "metadata": {
  "kernelspec": {
   "display_name": "Python 3",
   "language": "python",
   "name": "python3"
  },
  "language_info": {
   "codemirror_mode": {
    "name": "ipython",
    "version": 3
   },
   "file_extension": ".py",
   "mimetype": "text/x-python",
   "name": "python",
   "nbconvert_exporter": "python",
   "pygments_lexer": "ipython3",
   "version": "3.7.6"
  }
 },
 "nbformat": 4,
 "nbformat_minor": 4
}
