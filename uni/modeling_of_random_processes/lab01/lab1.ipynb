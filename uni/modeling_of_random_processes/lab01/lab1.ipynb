{
 "cells": [
  {
   "cell_type": "code",
   "execution_count": null,
   "metadata": {},
   "outputs": [],
   "source": [
    "%load_ext Cython\n"
   ]
  },
  {
   "cell_type": "code",
   "execution_count": null,
   "metadata": {
    "scrolled": false
   },
   "outputs": [],
   "source": [
    "%%cython -a\n",
    "cimport numpy as cnp\n",
    "from libc.stdlib cimport malloc, free\n",
    "\n",
    "cdef multiplicativeCongruentialMethod(unsigned long long int alpha, int M, unsigned long long int beta , int *randomNums, int noOfRandomNums):\n",
    "    cdef int j = 1\n",
    "    randomNums[0] = alpha\n",
    "    while j < noOfRandomNums:\n",
    "        randomNums[j] = (randomNums[j - 1] * beta) % M\n",
    "        j = j + 1\n",
    "    return [number for number in randomNums[:noOfRandomNums]]\n",
    "        \n",
    "cdef main():\n",
    "    cdef unsigned long long int alpha = 82\n",
    "    cdef int M = 11\n",
    "    cdef unsigned long long int beta = 63\n",
    "    cdef int noOfRandomNums = 10000\n",
    "    cdef int  i = 0\n",
    "    cdef int *randomNums = <int *> malloc(noOfRandomNums * sizeof(int))\n",
    "    \n",
    "    cdef cnp.ndarray[cnp.int_t, ndim=1] resultArray\n",
    "    if not randomNums:\n",
    "        raise MemoryError()\n",
    "\n",
    "    try:\n",
    "        resultArray = multiplicativeCongruentialMethod(alpha, M, beta, randomNums, noOfRandomNums)\n",
    "        while i < noOfRandomNums:\n",
    "            print(i, end = \" \")\n",
    "            i = i + 1\n",
    "    finally:\n",
    "        free(randomNums)\n",
    "\n"
   ]
  },
  {
   "cell_type": "code",
   "execution_count": null,
   "metadata": {},
   "outputs": [],
   "source": [
    "%%cython\n",
    "\n",
    "from cpython cimport array\n",
    "import array\n",
    "cdef array.array a = array.array('i', [1, 2, 3])\n",
    "cdef int[:] ca = a\n",
    "\n",
    "print(ca[0])"
   ]
  },
  {
   "cell_type": "code",
   "execution_count": 12,
   "metadata": {},
   "outputs": [
    {
     "name": "stdout",
     "output_type": "stream",
     "text": [
      "MIN :  8.111e-08\n",
      "MAX :  0.99984089631\n",
      "Intervals:  14\n",
      "0.03518018101353982\n",
      "0.03451556278976517\n",
      "0.037503819006904845\n",
      "0.035455982459485405\n",
      "0.034846942800525915\n",
      "0.03580034168643602\n",
      "0.03530617496862073\n",
      "0.03535280520479772\n",
      "0.03603324798148965\n",
      "0.03665984928602446\n",
      "0.035088917369992007\n",
      "0.0359659029167296\n",
      "0.03721284312303738\n",
      "0.03582511190465285\n",
      "Hi =  23.161599999999993\n",
      "delta R = [0.000419055683650818, 0.000918412212108366, 3.6194829329816436e-05, 0.00046531926880444274, 0.0017167770933507187, 7.12764898186391e-05, 0.0006214436458157335, 0.00022559016710305135, 0.0007054620131404787, 0.0003894517399356534, 0.0005263472437633809, 0.0005517778064002554, 0.0007751372242476018]\n",
      "0.0030407111984631567 0.002150107508063172\n",
      "Moment Verification = 1.103280133382582\n",
      "Variance = 0.08306893316316147\n",
      "Teoretical Dispersion 5.600279917e-07\n",
      "Dispersion Verification = 0.3532754280936694\n",
      "Dispersion 0.08306893316316132\n",
      "Check 0.50318489541\n",
      "{8.111e-08: 678, 0.07141728219571428: 730, 0.14283448328142856: 720, 0.21425168436714284: 694, 0.2856688854528571: 671, 0.3570860865385714: 679, 0.4285032876242857: 812, 0.49992048871: 692, 0.5713376897957143: 701, 0.6427548908814286: 746, 0.7141720919671428: 712, 0.7855892930528572: 726, 0.8570064941385714: 721, 0.9284236952242857: 716}\n"
     ]
    },
    {
     "data": {
      "image/png": "[encoded data removed]",
      "text/plain": [
       "<Figure size 432x288 with 1 Axes>"
      ]
     },
     "metadata": {},
     "output_type": "display_data"
    }
   ],
   "source": [
    "import statistics as st\n",
    "import math\n",
    "import numpy as np\n",
    "import matplotlib.pyplot as plt\n",
    "import seaborn as sns\n",
    "sns.set()\n",
    "def multicong(n): \n",
    "    q = 11\n",
    "    b = 4141\n",
    "    M = 10**q\n",
    "    a0 = 8111\n",
    "    bvv = [0]*n\n",
    "    a = [0]*(n+1)\n",
    "    a[0] = a0\n",
    "    for i in range(1,n+1):\n",
    "        a[i] = (b * a[i - 1]) % M\n",
    "        bvv[i - 1] = a[i - 1] / M\n",
    "    return bvv\n",
    "\n",
    "def ver():\n",
    "    V = np.int64(5*10**5)\n",
    "    bvv = multicong(V)\n",
    "    xv = bvv[int(V/2)-1]\n",
    "    t = []\n",
    "    L = -1\n",
    "    for i in range(int(V/2),len(bvv)):\n",
    "        if bvv[i] == xv: t.append(i)\n",
    "    T=t[1]-t[0]\n",
    "    for i in range(T):\n",
    "        if bvv[i]==bvv[T+i]: \n",
    "            L = i\n",
    "            break\n",
    "    print('T = ',T)\n",
    "    print('L = ',L)\n",
    "    return T,L\n",
    "\n",
    "N = 10000\n",
    "# f = open(\"data_uni.txt\", 'r')\n",
    "bvv = multicong(N)\n",
    "# t, l = ver()\n",
    "# alls = f.read().splitlines()\n",
    "# bvv = [float(i) for i in alls]\n",
    "# print(bvv)\n",
    "# bvv = d\n",
    "k = int(1+math.log2(N))\n",
    "h = (max(bvv)-min(bvv))/14\n",
    "print('MIN : ',min(bvv))\n",
    "print('MAX : ',max(bvv))\n",
    "print(\"Intervals: \",k)\n",
    "gr_c = dict.fromkeys([min(bvv)+h*i for i in range(k)],0)\n",
    "gr_s = dict.fromkeys([min(bvv)+h*i for i in range(k)],0)\n",
    "for i in bvv:\n",
    "    for j in gr_c.keys():\n",
    "        if (i>j and i<j+h):\n",
    "            gr_c[j]+=1\n",
    "            gr_s[j]+=i-j+min(bvv)\n",
    "for i in gr_c.keys():\n",
    "    if gr_c[i] == 0:\n",
    "        continue\n",
    "    print(gr_s[i]/gr_c[i])\n",
    "hi = 0    \n",
    "for i in gr_c.keys():\n",
    "    hi += (gr_c[i] - N/k)**2 / (N / k)\n",
    "print('Hi = ', hi)\n",
    "\n",
    "t = 13\n",
    "Rp = [0]*t\n",
    "avg = st.mean(bvv)\n",
    "for j in range(t):\n",
    "    s = 0\n",
    "    for i in range(N-t):\n",
    "        s += bvv[i] * bvv[i + j]\n",
    "    Rp[j] = s / (N - j - 1) - (N / (N - 1)) * avg**2\n",
    "\n",
    "delta = [abs(Rp[0] - 1/12)]+[abs(Rp[i]) for i in range(1,t)]\n",
    "print(\"delta R =\", delta)\n",
    "print(2.58*(2)**0.5/(12*(N-1)**0.5),2.58/(12*(N-1)**0.5))\n",
    "\n",
    "MomPerev = abs(avg - 0.5) / (1 / 12 / N)**0.5\n",
    "print(\"Moment Verification =\" , MomPerev)  \n",
    "var = 0\n",
    "for i in range(N):\n",
    "    var += (bvv[i] - avg)**2\n",
    "var /= N - 1\n",
    "print(\"Variance =\" , var)\n",
    "TeoDis = (0.0056 / N + 0.0028/(N**2) - 0.0083/(N**3))\n",
    "print(\"Teoretical Dispersion\", TeoDis)\n",
    "DisPerev = (N - 1) * abs(var - 1 / 12) / (0.0056 / N + 0.0028/(N**2) - 0.0083/(N**3))**0.5 / N\n",
    "print(\"Dispersion Verification =\" ,DisPerev)\n",
    "print(\"Dispersion\", st.variance(bvv))\n",
    "print(\"Check\", st.mean(bvv))\n",
    "import matplotlib.pyplot as plt\n",
    "y = [0]*k\n",
    "j = 0\n",
    "print(gr_c)\n",
    "for i in gr_c.keys():\n",
    "    y[j] = gr_c[i]\n",
    "    j += 1\n",
    "x = range(10000)\n",
    "plt.style.use('dark_background')\n",
    "plt.plot(range(k), y, color='red')\n",
    "plt.savefig(\"/home/yhetman/Downloads/plt_lab01.png\")"
   ]
  },
  {
   "cell_type": "code",
   "execution_count": 26,
   "metadata": {},
   "outputs": [
    {
     "data": {
      "text/plain": [
       "0.0031848142999999496"
      ]
     },
     "execution_count": 26,
     "metadata": {},
     "output_type": "execute_result"
    }
   ],
   "source": [
    "max([abs(avg - i) for i in bvv])-0.5\n"
   ]
  },
  {
   "cell_type": "code",
   "execution_count": 27,
   "metadata": {},
   "outputs": [
    {
     "data": {
      "text/plain": [
       "0.31848142999999496"
      ]
     },
     "execution_count": 27,
     "metadata": {},
     "output_type": "execute_result"
    }
   ],
   "source": [
    "0.0031848142999999496*100"
   ]
  },
  {
   "cell_type": "code",
   "execution_count": null,
   "metadata": {},
   "outputs": [],
   "source": [
    "M = 2**(11)-1\n",
    "b = 4111\n",
    "q =29\n",
    "a = 8111\n",
    "T = 12317712\n",
    "# (10**(q) - q**8) \n",
    "# M / a - T #12317712\n",
    "# M / a  / (a+b)\n",
    "(M / a) - (a + b) - q**2 - T #)**-1 -T"
   ]
  },
  {
   "cell_type": "code",
   "execution_count": null,
   "metadata": {},
   "outputs": [],
   "source": [
    "m = 0.5\n",
    "sq = [i**2 for i in bvv]\n",
    "\n",
    "m2 = st.mean(sq)"
   ]
  },
  {
   "cell_type": "code",
   "execution_count": null,
   "metadata": {},
   "outputs": [],
   "source": [
    "print(m2 - m**2)"
   ]
  },
  {
   "cell_type": "code",
   "execution_count": null,
   "metadata": {},
   "outputs": [],
   "source": [
    "st.mean(bvv)"
   ]
  },
  {
   "cell_type": "code",
   "execution_count": null,
   "metadata": {},
   "outputs": [],
   "source": [
    "import statistics as st\n",
    "import math\n",
    "import matplotlib.pyplot as plt\n",
    "\n",
    "def dat(n):  \n",
    "    b = 77\n",
    "    M = 10000000\n",
    "    a0 = 8\n",
    "    bvv = [0]*n\n",
    "    a = [0]*(n+1)\n",
    "    a[0] = a0\n",
    "    for i in range(1,n+1):\n",
    "        a[i] = (b * a[i - 1]) % M\n",
    "        bvv[i - 1] = a[i - 1] / M\n",
    "    return bvv\n",
    "\n",
    "def ver():\n",
    "    bvv = dat(2000000)\n",
    "    xv = bvv[999999]\n",
    "    t = []\n",
    "    for i in range(1000000,len(bvv)):\n",
    "        if bvv[i] == xv: t.append(i)\n",
    "    T=t[1]-t[0]\n",
    "    for i in range(T):\n",
    "        if bvv[i]==bvv[T+i]: \n",
    "            L = i\n",
    "            break\n",
    "    print('T = ',T)\n",
    "    print('L = ', L)\n",
    "    return T,L\n",
    "\n",
    "N = 10000\n",
    "bvv = dat(N)\n",
    "k = int(1+math.log2(N))\n",
    "h = (max(bvv)-min(bvv))/14\n",
    "print(h*100)\n",
    "print('����������� �������� : ',min(bvv))\n",
    "print('������������ �������� : ',max(bvv))\n",
    "print(\"���������� ������������� : \",k)\n",
    "gr_c = dict.fromkeys([min(bvv)+h*i for i in range(k)],0)\n",
    "gr_s = dict.fromkeys([min(bvv)+h*i for i in range(k)],0)\n",
    "for i in bvv:\n",
    "    for j in gr_c.keys():\n",
    "        if (i>j and i<j+h):\n",
    "            gr_c[j]+=1\n",
    "            gr_s[j]+=i-j+min(bvv)\n",
    "for i in gr_c.keys():\n",
    "    print(gr_s[i]/gr_c[i])\n",
    "hi = 0    \n",
    "for i in gr_c.keys():\n",
    "    hi += (gr_c[i] - N/k)**2 / (N / k)\n",
    "print('Hi = ', hi)\n",
    "\n",
    "t = 10\n",
    "Rp = [0]*t\n",
    "avg = st.mean(bvv)\n",
    "for j in range(t):\n",
    "    s = 0\n",
    "    for i in range(N-t):\n",
    "        s += bvv[i] * bvv[i + j]\n",
    "    Rp[j] = s / (N - j - 1) - (N / (N - 1)) * avg**2\n",
    "\n",
    "delta = [abs(Rp[0] - 1/12)]+[abs(Rp[i]) for i in range(1,t)]\n",
    "print(\"delta R =\", delta)\n",
    "print(1.65*(2)**0.5/(12*(N-1)**0.5),1.65/(12*(N-1)**0.5))\n",
    "\n",
    "MomPerev = abs(avg - 0.5) / (1 / 12 / N)**0.5\n",
    "print(\"Moment Verification =\" , MomPerev)  \n",
    "var = 0\n",
    "for i in range(N):\n",
    "    var += (bvv[i] - avg)**2\n",
    "var /= N - 1\n",
    "print(\"Variance =\" , var)\n",
    "TeoDis = (0.0056 / N + 0.0028/(N**2) - 0.0083/(N**3))\n",
    "print(\"Teoretical Dispersion\", TeoDis)\n",
    "DisPerev = (N - 1) * abs(var - 1 / 12) / (0.0056 / N + 0.0028/(N**2) - 0.0083/(N**3))**0.5 / N\n",
    "print(\"Dispersion Verification =\" ,DisPerev)\n",
    "\n",
    "%matplotlib inline\n",
    "y = [0]*k\n",
    "j = 0\n",
    "print(gr_c)\n",
    "for i in gr_c.keys():\n",
    "    y[j] = gr_c[i]\n",
    "    j += 1\n",
    "x = range(10000)\n",
    "fig, ax = plt.subplots()\n",
    "ax.plot(range(k),y)\n",
    "\n"
   ]
  },
  {
   "cell_type": "code",
   "execution_count": null,
   "metadata": {},
   "outputs": [],
   "source": [
    "print(0.0111498603522 * 100)"
   ]
  },
  {
   "cell_type": "code",
   "execution_count": null,
   "metadata": {},
   "outputs": [],
   "source": []
  }
 ],
 "metadata": {
  "kernelspec": {
   "display_name": "Python 3",
   "language": "python",
   "name": "python3"
  },
  "language_info": {
   "codemirror_mode": {
    "name": "ipython",
    "version": 3
   },
   "file_extension": ".py",
   "mimetype": "text/x-python",
   "name": "python",
   "nbconvert_exporter": "python",
   "pygments_lexer": "ipython3",
   "version": "3.7.6"
  }
 },
 "nbformat": 4,
 "nbformat_minor": 4
}
