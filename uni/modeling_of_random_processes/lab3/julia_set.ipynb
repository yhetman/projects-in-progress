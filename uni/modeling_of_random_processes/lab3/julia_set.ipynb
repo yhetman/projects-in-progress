{
 "cells": [
  {
   "cell_type": "code",
   "execution_count": null,
   "metadata": {},
   "outputs": [],
   "source": [
    "from PIL import Image \n",
    " \n",
    "if __name__ == \"__main__\": \n",
    "    \n",
    "    w, h, zoom = 1920,1080,1\n",
    "   \n",
    "    bitmap = Image.new(\"RGB\", (w, h), \"white\") \n",
    "    pix = bitmap.load() \n",
    "     \n",
    "    # setting up the variables according to  \n",
    "    # the equation to  create the fractal \n",
    "    cX, cY = -0.7, 0.27015\n",
    "    moveX, moveY = 0.0, 0.0\n",
    "    maxIter = 255\n",
    "   \n",
    "    for x in range(w): \n",
    "        for y in range(h): \n",
    "            zx = 1.5*(x - w/2)/(0.5*zoom*w) + moveX \n",
    "            zy = 1.0*(y - h/2)/(0.5*zoom*h) + moveY \n",
    "            i = maxIter \n",
    "            while zx*zx + zy*zy < 4 and i > 1: \n",
    "                tmp = zx*zx - zy*zy + cX \n",
    "                zy,zx = 2.0*zx*zy + cY, tmp \n",
    "                i -= 1\n",
    "            pix[x,y] = (i << 21) + (i << 10) + i*8\n",
    "    bitmap.show() "
   ]
  }
 ],
 "metadata": {
  "kernelspec": {
   "display_name": "Python 3",
   "language": "python",
   "name": "python3"
  },
  "language_info": {
   "codemirror_mode": {
    "name": "ipython",
    "version": 3
   },
   "file_extension": ".py",
   "mimetype": "text/x-python",
   "name": "python",
   "nbconvert_exporter": "python",
   "pygments_lexer": "ipython3",
   "version": "3.7.6"
  }
 },
 "nbformat": 4,
 "nbformat_minor": 4
}
